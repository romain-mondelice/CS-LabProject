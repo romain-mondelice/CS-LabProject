{
 "cells": [
  {
   "cell_type": "markdown",
   "metadata": {},
   "source": [
    "---"
   ]
  },
  {
   "cell_type": "markdown",
   "metadata": {},
   "source": [
    "# **Imports**"
   ]
  },
  {
   "cell_type": "code",
   "execution_count": null,
   "metadata": {},
   "outputs": [],
   "source": [
    "import numpy as np\n",
    "from scipy.stats import norm\n",
    "import ot\n",
    "import matplotlib.pyplot as plt\n",
    "import seaborn as sns\n",
    "from scipy import stats\n",
    "from scipy.stats import norm, lognorm"
   ]
  },
  {
   "cell_type": "markdown",
   "metadata": {},
   "source": [
    "---"
   ]
  },
  {
   "cell_type": "markdown",
   "metadata": {},
   "source": [
    "# **General Functions**"
   ]
  },
  {
   "cell_type": "code",
   "execution_count": null,
   "metadata": {},
   "outputs": [],
   "source": [
    "def c_lookback(x, y, K):\n",
    "    return np.maximum(np.max(y) - K, 0) - x\n",
    "\n",
    "def cost_matrix(xi, yj, K):\n",
    "    return c_lookback(xi[:, None], yj, K)\n",
    "\n",
    "def uniform_support(a, b, n):\n",
    "    return np.linspace(a, b, n)\n",
    "\n",
    "def project_onto_C1(p, mu):\n",
    "    return p * (mu / (p.sum(axis=1) + 1e-8))\n",
    "\n",
    "def project_onto_C2(p, nu):\n",
    "    return p * (nu / (p.sum(axis=0) + 1e-8))\n",
    "\n",
    "def project_onto_martingale_constraint(p, xi, yj, mu):\n",
    "    expected_y_per_x = np.dot(p, yj) / (mu + 1e-8)\n",
    "    adjustment_factors = xi / expected_y_per_x\n",
    "    adjustment_factors = np.where(np.isnan(adjustment_factors), 1, adjustment_factors)\n",
    "    p_adjusted = p * adjustment_factors[:, None]\n",
    "    return p_adjusted\n",
    "\n",
    "def bregman_projection(mu, nu, xi, yj, C, max_iter=100):\n",
    "    m, n = C.shape\n",
    "    p = np.exp(-C)\n",
    "    p /= np.sum(p)\n",
    "    for _ in range(max_iter):\n",
    "        p = project_onto_C1(p, mu)\n",
    "        p = project_onto_C2(p, nu)\n",
    "        p = project_onto_martingale_constraint(p, xi, yj, mu)\n",
    "        p /= np.sum(p)\n",
    "    return p\n",
    "\n",
    "def black_scholes_call(S, K, T, r, sigma):\n",
    "    d1 = (np.log(S / K) + (r + 0.5 * sigma**2) * T) / (sigma * np.sqrt(T))\n",
    "    d2 = d1 - sigma * np.sqrt(T)\n",
    "    lookback_call_price = S * norm.cdf(d1) - K * np.exp(-r * T) * norm.cdf(d2) + S * sigma * np.sqrt(T) * (norm.cdf(d1) - np.exp(-r * T) * norm.cdf(d2))\n",
    "    return lookback_call_price"
   ]
  },
  {
   "cell_type": "markdown",
   "metadata": {},
   "source": [
    "---"
   ]
  },
  {
   "cell_type": "markdown",
   "metadata": {},
   "source": [
    "# **Calculation with basic Black Scholes method**"
   ]
  },
  {
   "cell_type": "code",
   "execution_count": null,
   "metadata": {},
   "outputs": [],
   "source": [
    "# Parameters for the European call option\n",
    "S = 100  # Initial stock price\n",
    "K = 100  # Strike price\n",
    "T = 1    # Time to maturity (in years)\n",
    "r = 0.05 # Risk-free interest rate\n",
    "sigma = 0.2  # Volatility\n",
    "\n",
    "# Classic method: Black-Scholes pricing for lookback call option\n",
    "classic_price = black_scholes_call(S, K, T, r, sigma)\n",
    "print(\"Classic method (Black-Scholes) price for lookback call option:\", classic_price)"
   ]
  },
  {
   "cell_type": "markdown",
   "metadata": {},
   "source": [
    "# **Calculation with Monte Carlo Simulations**"
   ]
  },
  {
   "cell_type": "code",
   "execution_count": null,
   "metadata": {},
   "outputs": [],
   "source": [
    "# Parameters for the European call option\n",
    "S = 100  # Initial stock price\n",
    "K = 100  # Strike price (not directly used in floating strike lookback calculation)\n",
    "T = 1    # Time to maturity (in years)\n",
    "r = 0.05 # Risk-free interest rate\n",
    "sigma = 0.2  # Volatility\n",
    "n_trials = 10000  # Number of Monte Carlo trials\n",
    "n_steps = 252  # Number of steps within the time to maturity\n",
    "\n",
    "def monte_carlo_lookback_call_brownian_plot(S, K, T, r, sigma, n_trials, n_steps):\n",
    "    dt = T / n_steps\n",
    "    paths = []\n",
    "    max_prices = np.zeros(n_trials)  # To keep track of the maximum stock price in each trial\n",
    "    \n",
    "    for i in range(n_trials):\n",
    "        # Generate Brownian motion: cumulative sum of normal random increments\n",
    "        increments = sigma * np.sqrt(dt) * np.random.normal(size=n_steps) + (r - 0.5 * sigma**2) * dt\n",
    "        price_paths = S * np.exp(np.cumsum(increments))\n",
    "        max_prices[i] = np.max(price_paths)\n",
    "        if i < 100:  # Only store 100 paths for plotting to avoid overloading the plot\n",
    "            paths.append(price_paths)\n",
    "    \n",
    "    # Compute the payoff for lookback option: max(S(t) - K, 0)\n",
    "    payoffs = np.maximum(max_prices - S, 0)\n",
    "    option_price = np.exp(-r * T) * np.mean(payoffs)\n",
    "    \n",
    "    # Plotting\n",
    "    plt.figure(figsize=(10, 6))\n",
    "    for path in paths:\n",
    "        plt.plot(np.linspace(0, T, n_steps), path, lw=1, alpha=0.6)\n",
    "    plt.title('Sample Paths for Lookback Call Option Pricing\\nMonte Carlo Simulation with Brownian Motion')\n",
    "    plt.xlabel('Time to Maturity (Years)')\n",
    "    plt.ylabel('Stock Price')\n",
    "    plt.grid(True)\n",
    "    plt.show()\n",
    "    \n",
    "    return option_price\n",
    "\n",
    "# Running the simulation with plotting\n",
    "lookback_call_price_with_plot = monte_carlo_lookback_call_brownian_plot(S, K, T, r, sigma, n_trials, n_steps)\n",
    "print(\"Monte Carlo simulation price for lookback call option:\", lookback_call_price_with_plot)\n"
   ]
  },
  {
   "cell_type": "markdown",
   "metadata": {},
   "source": [
    "---"
   ]
  },
  {
   "cell_type": "markdown",
   "metadata": {},
   "source": [
    "# **Calculation with our Bregman Projection method**"
   ]
  },
  {
   "cell_type": "code",
   "execution_count": null,
   "metadata": {},
   "outputs": [],
   "source": [
    "n = 100  # Number of support points for each distribution\n",
    "xi = uniform_support(S * np.exp(-5 * sigma * np.sqrt(T)), S * np.exp(5 * sigma * np.sqrt(T)), n)\n",
    "yj = uniform_support(S * np.exp(-5 * sigma * np.sqrt(T)), S * np.exp(5 * sigma * np.sqrt(T)), n)\n",
    "C = cost_matrix(xi, yj, K)  # Use the updated cost matrix function\n",
    "mu = stats.lognorm.pdf(xi, s=sigma * np.sqrt(T), scale=S * np.exp(r * T))\n",
    "mu /= np.sum(mu)\n",
    "nu = stats.lognorm.pdf(yj, s=sigma * np.sqrt(T), scale=S * np.exp(r * T))\n",
    "nu /= np.sum(nu)\n",
    "p_star_bregman = bregman_projection(mu, nu, xi, yj, C)\n",
    "payoff_matrix = np.maximum(np.max(yj) - K, 0)  # Update the payoff matrix for lookback option\n",
    "bregman_price = np.exp(-r * T) * np.sum(p_star_bregman * payoff_matrix)\n",
    "\n",
    "print(\"Bregman projection price for lookback call option:\", bregman_price)"
   ]
  },
  {
   "cell_type": "markdown",
   "metadata": {},
   "source": [
    "---"
   ]
  },
  {
   "cell_type": "markdown",
   "metadata": {},
   "source": [
    "# **Sensitivity Analysis**"
   ]
  },
  {
   "cell_type": "markdown",
   "metadata": {},
   "source": [
    "Compare the Black-Scholes model and our new Bregman Projection method."
   ]
  },
  {
   "cell_type": "code",
   "execution_count": null,
   "metadata": {},
   "outputs": [],
   "source": [
    "# Parameters for the European call option\n",
    "S = 100  # Initial stock price\n",
    "K = 100  # Strike price\n",
    "T = 1    # Time to maturity (in years)\n",
    "r = 0.05 # Risk-free interest rate\n",
    "sigma = 0.2  # Volatility\n",
    "\n",
    "n = 100  # Number of support points for each distribution"
   ]
  },
  {
   "cell_type": "markdown",
   "metadata": {},
   "source": [
    "Evaluate the sensitivity to change in initial stock price"
   ]
  },
  {
   "cell_type": "code",
   "execution_count": null,
   "metadata": {},
   "outputs": [],
   "source": [
    "# Sensitivity analysis for strike price\n",
    "initial_prices = np.linspace(80, 120, 50)\n",
    "classic_prices_initial = []\n",
    "bregman_prices_initial = []\n",
    "for S in initial_prices:\n",
    "    classic_price = black_scholes_call(S, K, T, r, sigma)\n",
    "    classic_prices_initial.append(classic_price)\n",
    "    \n",
    "    n = 100  # Number of support points for each distribution\n",
    "    xi = uniform_support(S * np.exp(-5 * sigma * np.sqrt(T)), S * np.exp(5 * sigma * np.sqrt(T)), n)\n",
    "    yj = uniform_support(S * np.exp(-5 * sigma * np.sqrt(T)), S * np.exp(5 * sigma * np.sqrt(T)), n)\n",
    "    C = cost_matrix(xi, yj, K)  # Use the updated cost matrix function\n",
    "    mu = stats.lognorm.pdf(xi, s=sigma * np.sqrt(T), scale=S * np.exp(r * T))\n",
    "    mu /= np.sum(mu)\n",
    "    nu = stats.lognorm.pdf(yj, s=sigma * np.sqrt(T), scale=S * np.exp(r * T))\n",
    "    nu /= np.sum(nu)\n",
    "    p_star_bregman = bregman_projection(mu, nu, xi, yj, C)\n",
    "    payoff_matrix = np.maximum(np.max(yj) - K, 0)  # Update the payoff matrix for lookback option\n",
    "    bregman_price = np.exp(-r * T) * np.sum(p_star_bregman * payoff_matrix)\n",
    "\n",
    "    bregman_prices_initial.append(bregman_price)"
   ]
  },
  {
   "cell_type": "markdown",
   "metadata": {},
   "source": [
    "Evaluate the sensitivity to change in strike prices"
   ]
  },
  {
   "cell_type": "code",
   "execution_count": null,
   "metadata": {},
   "outputs": [],
   "source": [
    "# Reset stock price\n",
    "S = 100  # Initial stock price"
   ]
  },
  {
   "cell_type": "code",
   "execution_count": null,
   "metadata": {},
   "outputs": [],
   "source": [
    "# Sensitivity analysis for strike price\n",
    "strike_prices = np.linspace(80, 120, 50)\n",
    "classic_prices_strike = []\n",
    "bregman_prices_strike = []\n",
    "for K in strike_prices:\n",
    "    classic_price = black_scholes_call(S, K, T, r, sigma)\n",
    "    classic_prices_strike.append(classic_price)\n",
    "    \n",
    "    n = 100  # Number of support points for each distribution\n",
    "    xi = uniform_support(S * np.exp(-5 * sigma * np.sqrt(T)), S * np.exp(5 * sigma * np.sqrt(T)), n)\n",
    "    yj = uniform_support(S * np.exp(-5 * sigma * np.sqrt(T)), S * np.exp(5 * sigma * np.sqrt(T)), n)\n",
    "    C = cost_matrix(xi, yj, K)  # Use the updated cost matrix function\n",
    "    mu = stats.lognorm.pdf(xi, s=sigma * np.sqrt(T), scale=S * np.exp(r * T))\n",
    "    mu /= np.sum(mu)\n",
    "    nu = stats.lognorm.pdf(yj, s=sigma * np.sqrt(T), scale=S * np.exp(r * T))\n",
    "    nu /= np.sum(nu)\n",
    "    p_star_bregman = bregman_projection(mu, nu, xi, yj, C)\n",
    "    payoff_matrix = np.maximum(np.max(yj) - K, 0)  # Update the payoff matrix for lookback option\n",
    "    bregman_price = np.exp(-r * T) * np.sum(p_star_bregman * payoff_matrix)\n",
    "\n",
    "    bregman_prices_strike.append(bregman_price)"
   ]
  },
  {
   "cell_type": "markdown",
   "metadata": {},
   "source": [
    "Evaluate the sensitivity to change in maturity"
   ]
  },
  {
   "cell_type": "code",
   "execution_count": null,
   "metadata": {},
   "outputs": [],
   "source": [
    "# Reset strike price\n",
    "K = 100  # Strike price"
   ]
  },
  {
   "cell_type": "code",
   "execution_count": null,
   "metadata": {},
   "outputs": [],
   "source": [
    "# Sensitivity analysis for time to maturity\n",
    "maturities = np.linspace(0.5, 2, 50)\n",
    "classic_prices_maturity = []\n",
    "bregman_prices_maturity = []\n",
    "for T in maturities:\n",
    "    classic_price = black_scholes_call(S, K, T, r, sigma)\n",
    "    classic_prices_maturity.append(classic_price)\n",
    "    \n",
    "    n = 100  # Number of support points for each distribution\n",
    "    xi = uniform_support(S * np.exp(-5 * sigma * np.sqrt(T)), S * np.exp(5 * sigma * np.sqrt(T)), n)\n",
    "    yj = uniform_support(S * np.exp(-5 * sigma * np.sqrt(T)), S * np.exp(5 * sigma * np.sqrt(T)), n)\n",
    "    C = cost_matrix(xi, yj, K)  # Use the updated cost matrix function\n",
    "    mu = stats.lognorm.pdf(xi, s=sigma * np.sqrt(T), scale=S * np.exp(r * T))\n",
    "    mu /= np.sum(mu)\n",
    "    nu = stats.lognorm.pdf(yj, s=sigma * np.sqrt(T), scale=S * np.exp(r * T))\n",
    "    nu /= np.sum(nu)\n",
    "    p_star_bregman = bregman_projection(mu, nu, xi, yj, C)\n",
    "    payoff_matrix = np.maximum(np.max(yj) - K, 0)  # Update the payoff matrix for lookback option\n",
    "    bregman_price = np.exp(-r * T) * np.sum(p_star_bregman * payoff_matrix)\n",
    "\n",
    "    bregman_prices_maturity.append(bregman_price)"
   ]
  },
  {
   "cell_type": "markdown",
   "metadata": {},
   "source": [
    "Evaluate the sensitivity to change in interest rate"
   ]
  },
  {
   "cell_type": "code",
   "execution_count": null,
   "metadata": {},
   "outputs": [],
   "source": [
    "# Reset TTM\n",
    "T = 1    # Time to maturity (in years)"
   ]
  },
  {
   "cell_type": "code",
   "execution_count": null,
   "metadata": {},
   "outputs": [],
   "source": [
    "# Sensitivity analysis for risk-free interest rate\n",
    "interest_rates = np.linspace(0.01, 0.1, 50)\n",
    "classic_prices_interest = []\n",
    "bregman_prices_interest = []\n",
    "for r in interest_rates:\n",
    "    classic_price = black_scholes_call(S, K, T, r, sigma)\n",
    "    classic_prices_interest.append(classic_price)\n",
    "    \n",
    "    n = 100  # Number of support points for each distribution\n",
    "    xi = uniform_support(S * np.exp(-5 * sigma * np.sqrt(T)), S * np.exp(5 * sigma * np.sqrt(T)), n)\n",
    "    yj = uniform_support(S * np.exp(-5 * sigma * np.sqrt(T)), S * np.exp(5 * sigma * np.sqrt(T)), n)\n",
    "    C = cost_matrix(xi, yj, K)  # Use the updated cost matrix function\n",
    "    mu = stats.lognorm.pdf(xi, s=sigma * np.sqrt(T), scale=S * np.exp(r * T))\n",
    "    mu /= np.sum(mu)\n",
    "    nu = stats.lognorm.pdf(yj, s=sigma * np.sqrt(T), scale=S * np.exp(r * T))\n",
    "    nu /= np.sum(nu)\n",
    "    p_star_bregman = bregman_projection(mu, nu, xi, yj, C)\n",
    "    payoff_matrix = np.maximum(np.max(yj) - K, 0)  # Update the payoff matrix for lookback option\n",
    "    bregman_price = np.exp(-r * T) * np.sum(p_star_bregman * payoff_matrix)\n",
    "\n",
    "    bregman_prices_interest.append(bregman_price)"
   ]
  },
  {
   "cell_type": "markdown",
   "metadata": {},
   "source": [
    "Evaluate the sensitivity to change in volatility"
   ]
  },
  {
   "cell_type": "code",
   "execution_count": null,
   "metadata": {},
   "outputs": [],
   "source": [
    "# Reset risk-free\n",
    "r = 0.05 # Risk-free interest rate"
   ]
  },
  {
   "cell_type": "code",
   "execution_count": null,
   "metadata": {},
   "outputs": [],
   "source": [
    "# Sensitivity analysis for risk-free interest rate\n",
    "volatilities = np.linspace(0.2, 0.5, 50)\n",
    "classic_prices_vol = []\n",
    "bregman_prices_vol = []\n",
    "for sigma in volatilities:\n",
    "    classic_price = black_scholes_call(S, K, T, r, sigma)\n",
    "    classic_prices_vol.append(classic_price)\n",
    "    \n",
    "    n = 100  # Number of support points for each distribution\n",
    "    xi = uniform_support(S * np.exp(-5 * sigma * np.sqrt(T)), S * np.exp(5 * sigma * np.sqrt(T)), n)\n",
    "    yj = uniform_support(S * np.exp(-5 * sigma * np.sqrt(T)), S * np.exp(5 * sigma * np.sqrt(T)), n)\n",
    "    C = cost_matrix(xi, yj, K)  # Use the updated cost matrix function\n",
    "    mu = stats.lognorm.pdf(xi, s=sigma * np.sqrt(T), scale=S * np.exp(r * T))\n",
    "    mu /= np.sum(mu)\n",
    "    nu = stats.lognorm.pdf(yj, s=sigma * np.sqrt(T), scale=S * np.exp(r * T))\n",
    "    nu /= np.sum(nu)\n",
    "    p_star_bregman = bregman_projection(mu, nu, xi, yj, C)\n",
    "    payoff_matrix = np.maximum(np.max(yj) - K, 0)  # Update the payoff matrix for lookback option\n",
    "    bregman_price = np.exp(-r * T) * np.sum(p_star_bregman * payoff_matrix)\n",
    "\n",
    "    bregman_prices_vol.append(bregman_price)"
   ]
  },
  {
   "cell_type": "markdown",
   "metadata": {},
   "source": [
    "### **Visualization of our sensitivity analysis**"
   ]
  },
  {
   "cell_type": "code",
   "execution_count": null,
   "metadata": {},
   "outputs": [],
   "source": [
    "# Stock Price, Strike Price and Maturity\n",
    "fig, axs = plt.subplots(1, 5, figsize=(25, 5))\n",
    "\n",
    "axs[0].plot(initial_prices, classic_prices_initial, label='Black-Scholes')\n",
    "axs[0].plot(initial_prices, bregman_prices_initial, label='Bregman Projection')\n",
    "axs[0].set_xlabel('Stock Price')\n",
    "axs[0].set_ylabel('Option Price')\n",
    "axs[0].set_title('Sensitivity Analysis: Stock Price')\n",
    "axs[0].legend()\n",
    "\n",
    "axs[1].plot(strike_prices, classic_prices_strike, label='Black-Scholes')\n",
    "axs[1].plot(strike_prices, bregman_prices_strike, label='Bregman Projection')\n",
    "axs[1].set_xlabel('Strike Price')\n",
    "axs[1].set_ylabel('Option Price')\n",
    "axs[1].set_title('Sensitivity Analysis: Strike Price')\n",
    "axs[1].legend()\n",
    "\n",
    "axs[2].plot(maturities, classic_prices_maturity, label='Black-Scholes')\n",
    "axs[2].plot(maturities, bregman_prices_maturity, label='Bregman Projection')\n",
    "axs[2].set_xlabel('Time to Maturity')\n",
    "axs[2].set_ylabel('Option Price')\n",
    "axs[2].set_title('Sensitivity Analysis: Time to Maturity')\n",
    "axs[2].legend()\n",
    "\n",
    "axs[3].plot(interest_rates, classic_prices_interest, label='Black-Scholes')\n",
    "axs[3].plot(interest_rates, bregman_prices_interest, label='Bregman Projection')\n",
    "axs[3].set_xlabel('Interest rates')\n",
    "axs[3].set_ylabel('Option Price')\n",
    "axs[3].set_title('Sensitivity Analysis: Interest rates')\n",
    "axs[3].legend()\n",
    "\n",
    "axs[4].plot(volatilities, classic_prices_vol, label='Black-Scholes')\n",
    "axs[4].plot(volatilities, bregman_prices_vol, label='Bregman Projection')\n",
    "axs[4].set_xlabel('Volatility (sigma)')\n",
    "axs[4].set_ylabel('Option Price')\n",
    "axs[4].set_title('Sensitivity Analysis: Vol Price')\n",
    "axs[4].legend()\n",
    "\n",
    "plt.tight_layout()\n",
    "plt.show()"
   ]
  },
  {
   "cell_type": "markdown",
   "metadata": {},
   "source": [
    "Our bregman projection overprice a little bit the classic price but give consistent and logic results."
   ]
  },
  {
   "cell_type": "markdown",
   "metadata": {},
   "source": [
    "### **Numerical error analysis**"
   ]
  },
  {
   "cell_type": "code",
   "execution_count": null,
   "metadata": {},
   "outputs": [],
   "source": [
    "# Fix NaNs value in the volatility\n",
    "bregman_prices_vol = [value for value in bregman_prices_vol if not np.isnan(value)]\n",
    "classic_prices_vol = classic_prices_vol[:len(bregman_prices_vol)]"
   ]
  },
  {
   "cell_type": "code",
   "execution_count": null,
   "metadata": {},
   "outputs": [],
   "source": [
    "# Calculate and print the numerical error\n",
    "error_stock = np.mean(np.abs(np.array(classic_prices_initial) - np.array(bregman_prices_initial)) / np.array(classic_prices_initial))\n",
    "error_strike = np.mean(np.abs(np.array(classic_prices_strike) - np.array(bregman_prices_strike)) / np.array(classic_prices_strike))\n",
    "error_maturity = np.mean(np.abs(np.array(classic_prices_maturity) - np.array(bregman_prices_maturity)) / np.array(classic_prices_maturity))\n",
    "error_interest = np.mean(np.abs(np.array(classic_prices_interest) - np.array(bregman_prices_interest)) / np.array(classic_prices_interest))\n",
    "error_vol = np.mean(np.abs(np.array(classic_prices_vol) - np.array(bregman_prices_vol)) / np.array(classic_prices_vol))"
   ]
  },
  {
   "cell_type": "code",
   "execution_count": null,
   "metadata": {},
   "outputs": [],
   "source": [
    "print(f\"Numerical error (stock price): {error_stock:.2%}\")\n",
    "print(f\"Numerical error (strike price): {error_strike:.2%}\")\n",
    "print(f\"Numerical error (time to maturity): {error_maturity:.2%}\")\n",
    "print(f\"Numerical error (Interest rates): {error_interest:.2%}\")\n",
    "print(f\"Numerical error (Volatility): {error_vol:.2%}\")"
   ]
  }
 ],
 "metadata": {
  "kernelspec": {
   "display_name": "Python 3",
   "language": "python",
   "name": "python3"
  },
  "language_info": {
   "codemirror_mode": {
    "name": "ipython",
    "version": 3
   },
   "file_extension": ".py",
   "mimetype": "text/x-python",
   "name": "python",
   "nbconvert_exporter": "python",
   "pygments_lexer": "ipython3",
   "version": "3.11.8"
  }
 },
 "nbformat": 4,
 "nbformat_minor": 2
}
