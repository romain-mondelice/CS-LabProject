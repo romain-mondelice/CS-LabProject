{
 "cells": [
  {
   "cell_type": "markdown",
   "metadata": {},
   "source": [
    "---"
   ]
  },
  {
   "cell_type": "markdown",
   "metadata": {},
   "source": [
    "# **Imports**"
   ]
  },
  {
   "cell_type": "code",
   "execution_count": null,
   "metadata": {},
   "outputs": [],
   "source": [
    "import numpy as np\n",
    "from scipy.stats import norm\n",
    "import ot\n",
    "import matplotlib.pyplot as plt\n",
    "import seaborn as sns\n",
    "from scipy import stats\n",
    "from scipy.stats import norm, lognorm"
   ]
  },
  {
   "cell_type": "markdown",
   "metadata": {},
   "source": [
    "---"
   ]
  },
  {
   "cell_type": "markdown",
   "metadata": {},
   "source": [
    "# **General Functions**"
   ]
  },
  {
   "cell_type": "code",
   "execution_count": null,
   "metadata": {},
   "outputs": [],
   "source": [
    "def c(x, y, K):\n",
    "    return np.maximum(y - K, 0) - x\n",
    "\n",
    "def uniform_support(a, b, n):\n",
    "    return np.linspace(a, b, n)\n",
    "\n",
    "def cost_matrix(xi, yj, K):\n",
    "    return c(xi[:, None], yj, K)\n",
    "\n",
    "def project_onto_C1(p, mu):\n",
    "    return p * (mu / (p.sum(axis=1) + 1e-8))\n",
    "\n",
    "def project_onto_C2(p, nu):\n",
    "    return p * (nu / (p.sum(axis=0) + 1e-8))\n",
    "\n",
    "def project_onto_martingale_constraint(p, xi, yj, mu):\n",
    "    expected_y_per_x = np.dot(p, yj) / (mu + 1e-8)\n",
    "    adjustment_factors = xi / expected_y_per_x\n",
    "    adjustment_factors = np.where(np.isnan(adjustment_factors), 1, adjustment_factors)\n",
    "    p_adjusted = p * adjustment_factors[:, None]\n",
    "    return p_adjusted\n",
    "\n",
    "def bregman_projection(mu, nu, xi, yj, C, max_iter=100):\n",
    "    m, n = C.shape\n",
    "    p = np.exp(-C)\n",
    "    p /= np.sum(p)\n",
    "    for _ in range(max_iter):\n",
    "        p = project_onto_C1(p, mu)\n",
    "        p = project_onto_C2(p, nu)\n",
    "        p = project_onto_martingale_constraint(p, xi, yj, mu)\n",
    "        p /= np.sum(p)\n",
    "    return p\n",
    "\n",
    "def black_scholes_call(S, K, T, r, sigma):\n",
    "    d1 = (np.log(S / K) + (r + 0.5 * sigma**2) * T) / (sigma * np.sqrt(T))\n",
    "    d2 = d1 - sigma * np.sqrt(T)\n",
    "    call_price = S * norm.cdf(d1) - K * np.exp(-r * T) * norm.cdf(d2)\n",
    "    return call_price"
   ]
  },
  {
   "cell_type": "markdown",
   "metadata": {},
   "source": [
    "---"
   ]
  },
  {
   "cell_type": "markdown",
   "metadata": {},
   "source": [
    "# **Calculation with basic Black Scholes method**"
   ]
  },
  {
   "cell_type": "code",
   "execution_count": null,
   "metadata": {},
   "outputs": [],
   "source": [
    "# Parameters for the European call option\n",
    "S = 100  # Initial stock price\n",
    "K = 100  # Strike price\n",
    "T = 1    # Time to maturity (in years)\n",
    "r = 0.05 # Risk-free interest rate\n",
    "sigma = 0.2  # Volatility\n",
    "\n",
    "# Classic method: Black-Scholes pricing\n",
    "classic_price = black_scholes_call(S, K, T, r, sigma)\n",
    "print(\"Classic method (Black-Scholes) price:\", classic_price)"
   ]
  },
  {
   "cell_type": "markdown",
   "metadata": {},
   "source": [
    "---"
   ]
  },
  {
   "cell_type": "markdown",
   "metadata": {},
   "source": [
    "# **Calculation with Monte Carlo Simulations**"
   ]
  },
  {
   "cell_type": "code",
   "execution_count": null,
   "metadata": {},
   "outputs": [],
   "source": [
    "S = 100  # Initial stock price\n",
    "K = 100  # Strike price\n",
    "T = 1    # Time to maturity (in years)\n",
    "r = 0.05 # Risk-free interest rate\n",
    "sigma = 0.2  # Volatility\n",
    "n_trials = 10000  # Number of Monte Carlo trials\n",
    "dt = 1/252  # Time step in years, assuming 252 trading days per year\n",
    "n_steps = int(T / dt)  # Number of steps within the time to maturity\n",
    "\n",
    "# Initializing the array for storing simulated end-of-period prices\n",
    "price_paths = np.zeros((n_steps + 1, n_trials))\n",
    "price_paths[0] = S\n",
    "\n",
    "# Simulating price paths\n",
    "for t in range(1, n_steps + 1):\n",
    "    Z = np.random.standard_normal(n_trials)  # Generate random shocks\n",
    "    price_paths[t] = price_paths[t-1] * np.exp((r - 0.5 * sigma**2) * dt + sigma * np.sqrt(dt) * Z)\n",
    "\n",
    "# Calculating the payoffs for a call option at maturity\n",
    "payoffs = np.maximum(price_paths[-1] - K, 0)\n",
    "\n",
    "# Discounting the payoffs to present value\n",
    "monte_carlo_price = np.exp(-r * T) * np.mean(payoffs)\n",
    "\n",
    "print(\"Monte Carlo simulation price with Brownian motion:\", monte_carlo_price)"
   ]
  },
  {
   "cell_type": "code",
   "execution_count": null,
   "metadata": {},
   "outputs": [],
   "source": [
    "# Simulating price paths for plotting\n",
    "n_plot_trials = 100  # We Reduced number of trials for a clearer plot\n",
    "price_paths_plot = np.zeros((n_steps + 1, n_plot_trials))\n",
    "price_paths_plot[0] = S\n",
    "\n",
    "for t in range(1, n_steps + 1):\n",
    "    Z = np.random.standard_normal(n_plot_trials)  # Generate random shocks for plotting\n",
    "    price_paths_plot[t] = price_paths_plot[t-1] * np.exp((r - 0.5 * sigma**2) * dt + sigma * np.sqrt(dt) * Z)\n",
    "\n",
    "# Plotting some of the simulated stock price paths\n",
    "plt.figure(figsize=(10, 6))\n",
    "for i in range(n_plot_trials):\n",
    "    plt.plot(price_paths_plot[:, i], lw=1)\n",
    "\n",
    "plt.title('Simulated Stock Price Paths')\n",
    "plt.xlabel('Time Steps')\n",
    "plt.ylabel('Stock Price')\n",
    "plt.grid(True)\n",
    "plt.show()"
   ]
  },
  {
   "cell_type": "markdown",
   "metadata": {},
   "source": [
    "---"
   ]
  },
  {
   "cell_type": "markdown",
   "metadata": {},
   "source": [
    "# **Calculation with our Bregman Projection method**"
   ]
  },
  {
   "cell_type": "code",
   "execution_count": null,
   "metadata": {},
   "outputs": [],
   "source": [
    "n = 100  # Number of support points for each distribution\n",
    "xi = uniform_support(S * np.exp(-5 * sigma * np.sqrt(T)), S * np.exp(5 * sigma * np.sqrt(T)), n)\n",
    "yj = uniform_support(S * np.exp(-5 * sigma * np.sqrt(T)), S * np.exp(5 * sigma * np.sqrt(T)), n)\n",
    "C = cost_matrix(xi, yj, K)\n",
    "mu = stats.lognorm.pdf(xi, s=sigma * np.sqrt(T), scale=S * np.exp(r * T))\n",
    "mu /= np.sum(mu)\n",
    "nu = stats.lognorm.pdf(yj, s=sigma * np.sqrt(T), scale=S * np.exp(r * T))\n",
    "nu /= np.sum(nu)\n",
    "\n",
    "p_star_bregman = bregman_projection(mu, nu, xi, yj, C)\n",
    "payoff_matrix = np.maximum(yj - K, 0)\n",
    "bregman_price = np.exp(-r * T) * np.sum(p_star_bregman * payoff_matrix)\n",
    "print(\"Bregman projection price:\", bregman_price)"
   ]
  },
  {
   "cell_type": "code",
   "execution_count": null,
   "metadata": {},
   "outputs": [],
   "source": [
    "# Plot the optimal transport plan\n",
    "plt.figure(figsize=(8, 6))\n",
    "plt.imshow(p_star_bregman, cmap='viridis', origin='lower')\n",
    "plt.colorbar(label='Probability')\n",
    "plt.xlabel('nu')\n",
    "plt.ylabel('mu')\n",
    "plt.title('Optimal Transport Plan')\n",
    "plt.show()"
   ]
  },
  {
   "cell_type": "markdown",
   "metadata": {},
   "source": [
    "---"
   ]
  },
  {
   "cell_type": "markdown",
   "metadata": {},
   "source": [
    "# **Calculation with the Sinkhorn-Knopp algorithm**"
   ]
  },
  {
   "cell_type": "code",
   "execution_count": null,
   "metadata": {},
   "outputs": [],
   "source": [
    "# Discretization\n",
    "n_bins = 100\n",
    "x_bins = np.linspace(0, 2*S, n_bins+1)\n",
    "y_bins = np.linspace(0, 2*S, n_bins+1)\n",
    "\n",
    "# Compute the initial and final distributions\n",
    "mu_hist = lognorm.pdf(x_bins[:-1], s=sigma * np.sqrt(T), scale=S)\n",
    "mu_hist /= np.sum(mu_hist)\n",
    "nu_hist = lognorm.pdf(y_bins[:-1], s=sigma * np.sqrt(T), scale=S * np.exp(r * T))\n",
    "nu_hist /= np.sum(nu_hist)\n",
    "\n",
    "# Compute the cost matrix\n",
    "x_centers = (x_bins[:-1] + x_bins[1:]) / 2\n",
    "y_centers = (y_bins[:-1] + y_bins[1:]) / 2\n",
    "cost_matrix_var = np.maximum(y_centers.reshape(-1, 1) - K, 0) - x_centers.reshape(1, -1)\n",
    "\n",
    "# Define the martingale constraint matrix\n",
    "martingale_matrix = x_centers.reshape(-1, 1) - y_centers.reshape(1, -1)\n",
    "\n",
    "# Solve the MOT problem using the Sinkhorn-Knopp algorithm with martingale constraints\n",
    "reg_epsilon = 0.01\n",
    "transport_plan = ot.sinkhorn(mu_hist, nu_hist, cost_matrix_var, reg_epsilon, m=martingale_matrix)\n",
    "\n",
    "# Compute the option price using the optimal transport plan\n",
    "payoff_matrix = np.maximum(y_centers - K, 0)\n",
    "sinkhorn_price = np.exp(-r * T) * np.sum(transport_plan * payoff_matrix)\n",
    "print(\"Sinkhorn-Knopp price:\", sinkhorn_price)"
   ]
  },
  {
   "cell_type": "markdown",
   "metadata": {},
   "source": [
    "Here the final Sinkhorn-Knopp price is equal to nans because we got a lot of nans in the final transport plan it self.\n",
    "\n",
    "Numerical instability: The Sinkhorn algorithm involves exponentiating the cost matrix and performing element-wise division. If the cost matrix contains very large or very small values, or if the regularization parameter reg_epsilon is too small, it can lead to numerical instability and produce NaNs in the transport plan.\n",
    "\n",
    "Incompatible marginals: The Sinkhorn algorithm assumes that the input marginals (mu_hist and nu_hist) are valid probability distributions that sum up to 1. If the marginals are not properly normalized or if they have incompatible shapes, it can cause issues in the algorithm and result in NaNs.\n",
    "\n",
    "Insufficient regularization: The regularization parameter reg_epsilon plays a crucial role in the convergence and stability of the Sinkhorn algorithm. If the regularization is insufficient (i.e., reg_epsilon is too small), it can lead to numerical issues and produce NaNs in the transport plan."
   ]
  },
  {
   "cell_type": "markdown",
   "metadata": {},
   "source": [
    "---"
   ]
  },
  {
   "cell_type": "markdown",
   "metadata": {},
   "source": [
    "# **Sensitivity Analysis**"
   ]
  },
  {
   "cell_type": "markdown",
   "metadata": {},
   "source": [
    "Compare the Black-Scholes model and our new Bregman Projection method."
   ]
  },
  {
   "cell_type": "code",
   "execution_count": null,
   "metadata": {},
   "outputs": [],
   "source": [
    "# Parameters for the European call option\n",
    "S = 100  # Initial stock price\n",
    "K = 100  # Strike price\n",
    "T = 1    # Time to maturity (in years)\n",
    "r = 0.05 # Risk-free interest rate\n",
    "sigma = 0.2  # Volatility\n",
    "\n",
    "n = 100  # Number of support points for each distribution"
   ]
  },
  {
   "cell_type": "markdown",
   "metadata": {},
   "source": [
    "Evaluate the sensitivity to change in initial stock price"
   ]
  },
  {
   "cell_type": "code",
   "execution_count": null,
   "metadata": {},
   "outputs": [],
   "source": [
    "# Sensitivity analysis for strike price\n",
    "initial_prices = np.linspace(80, 120, 50)\n",
    "classic_prices_initial = []\n",
    "bregman_prices_initial = []\n",
    "for S in initial_prices:\n",
    "    classic_price = black_scholes_call(S, K, T, r, sigma)\n",
    "    classic_prices_initial.append(classic_price)\n",
    "    \n",
    "    xi = uniform_support(S * np.exp(-5 * sigma * np.sqrt(T)), S * np.exp(5 * sigma * np.sqrt(T)), n)\n",
    "    yj = uniform_support(S * np.exp(-5 * sigma * np.sqrt(T)), S * np.exp(5 * sigma * np.sqrt(T)), n)\n",
    "    C = cost_matrix(xi, yj, K)\n",
    "    mu = lognorm.pdf(xi, s=sigma * np.sqrt(T), scale=S * np.exp(r * T))\n",
    "    mu /= np.sum(mu)\n",
    "    nu = lognorm.pdf(yj, s=sigma * np.sqrt(T), scale=S * np.exp(r * T))\n",
    "    nu /= np.sum(nu)\n",
    "    p_star_bregman = bregman_projection(mu, nu, xi, yj, C)\n",
    "    payoff_matrix = np.maximum(yj - K, 0)\n",
    "    bregman_price = np.exp(-r * T) * np.sum(p_star_bregman * payoff_matrix)\n",
    "    bregman_prices_initial.append(bregman_price)"
   ]
  },
  {
   "cell_type": "markdown",
   "metadata": {},
   "source": [
    "Evaluate the sensitivity to change in strike prices"
   ]
  },
  {
   "cell_type": "code",
   "execution_count": null,
   "metadata": {},
   "outputs": [],
   "source": [
    "# Reset stock price\n",
    "S = 100  # Initial stock price"
   ]
  },
  {
   "cell_type": "code",
   "execution_count": null,
   "metadata": {},
   "outputs": [],
   "source": [
    "# Sensitivity analysis for strike price\n",
    "strike_prices = np.linspace(80, 120, 50)\n",
    "classic_prices_strike = []\n",
    "bregman_prices_strike = []\n",
    "for K in strike_prices:\n",
    "    classic_price = black_scholes_call(S, K, T, r, sigma)\n",
    "    classic_prices_strike.append(classic_price)\n",
    "    \n",
    "    xi = uniform_support(S * np.exp(-5 * sigma * np.sqrt(T)), S * np.exp(5 * sigma * np.sqrt(T)), n)\n",
    "    yj = uniform_support(S * np.exp(-5 * sigma * np.sqrt(T)), S * np.exp(5 * sigma * np.sqrt(T)), n)\n",
    "    C = cost_matrix(xi, yj, K)\n",
    "    mu = lognorm.pdf(xi, s=sigma * np.sqrt(T), scale=S * np.exp(r * T))\n",
    "    mu /= np.sum(mu)\n",
    "    nu = lognorm.pdf(yj, s=sigma * np.sqrt(T), scale=S * np.exp(r * T))\n",
    "    nu /= np.sum(nu)\n",
    "    p_star_bregman = bregman_projection(mu, nu, xi, yj, C)\n",
    "    payoff_matrix = np.maximum(yj - K, 0)\n",
    "    bregman_price = np.exp(-r * T) * np.sum(p_star_bregman * payoff_matrix)\n",
    "    bregman_prices_strike.append(bregman_price)"
   ]
  },
  {
   "cell_type": "markdown",
   "metadata": {},
   "source": [
    "Evaluate the sensitivity to change in maturity"
   ]
  },
  {
   "cell_type": "code",
   "execution_count": null,
   "metadata": {},
   "outputs": [],
   "source": [
    "# Reset strike price\n",
    "K = 100  # Strike price"
   ]
  },
  {
   "cell_type": "code",
   "execution_count": null,
   "metadata": {},
   "outputs": [],
   "source": [
    "# Sensitivity analysis for time to maturity\n",
    "maturities = np.linspace(0.5, 2, 50)\n",
    "classic_prices_maturity = []\n",
    "bregman_prices_maturity = []\n",
    "for T in maturities:\n",
    "    classic_price = black_scholes_call(S, K, T, r, sigma)\n",
    "    classic_prices_maturity.append(classic_price)\n",
    "    \n",
    "    xi = uniform_support(S * np.exp(-5 * sigma * np.sqrt(T)), S * np.exp(5 * sigma * np.sqrt(T)), n)\n",
    "    yj = uniform_support(S * np.exp(-5 * sigma * np.sqrt(T)), S * np.exp(5 * sigma * np.sqrt(T)), n)\n",
    "    C = cost_matrix(xi, yj, K)\n",
    "    mu = lognorm.pdf(xi, s=sigma * np.sqrt(T), scale=S * np.exp(r * T))\n",
    "    mu /= np.sum(mu)\n",
    "    nu = lognorm.pdf(yj, s=sigma * np.sqrt(T), scale=S * np.exp(r * T))\n",
    "    nu /= np.sum(nu)\n",
    "    p_star_bregman = bregman_projection(mu, nu, xi, yj, C)\n",
    "    payoff_matrix = np.maximum(yj - K, 0)\n",
    "    bregman_price = np.exp(-r * T) * np.sum(p_star_bregman * payoff_matrix)\n",
    "    bregman_prices_maturity.append(bregman_price)"
   ]
  },
  {
   "cell_type": "markdown",
   "metadata": {},
   "source": [
    "Evaluate the sensitivity to change in interest rate"
   ]
  },
  {
   "cell_type": "code",
   "execution_count": null,
   "metadata": {},
   "outputs": [],
   "source": [
    "# Reset TTM\n",
    "T = 1    # Time to maturity (in years)"
   ]
  },
  {
   "cell_type": "code",
   "execution_count": null,
   "metadata": {},
   "outputs": [],
   "source": [
    "# Sensitivity analysis for risk-free interest rate\n",
    "interest_rates = np.linspace(0.01, 0.1, 50)\n",
    "classic_prices_interest = []\n",
    "bregman_prices_interest = []\n",
    "for r in interest_rates:\n",
    "    classic_price = black_scholes_call(S, K, T, r, sigma)\n",
    "    classic_prices_interest.append(classic_price)\n",
    "    \n",
    "    xi = uniform_support(S * np.exp(-5 * sigma * np.sqrt(T)), S * np.exp(5 * sigma * np.sqrt(T)), n)\n",
    "    yj = uniform_support(S * np.exp(-5 * sigma * np.sqrt(T)), S * np.exp(5 * sigma * np.sqrt(T)), n)\n",
    "    C = cost_matrix(xi, yj, K)\n",
    "    mu = lognorm.pdf(xi, s=sigma * np.sqrt(T), scale=S * np.exp(r * T))\n",
    "    mu /= np.sum(mu)\n",
    "    nu = lognorm.pdf(yj, s=sigma * np.sqrt(T), scale=S * np.exp(r * T))\n",
    "    nu /= np.sum(nu)\n",
    "    p_star_bregman = bregman_projection(mu, nu, xi, yj, C)\n",
    "    payoff_matrix = np.maximum(yj - K, 0)\n",
    "    bregman_price = np.exp(-r * T) * np.sum(p_star_bregman * payoff_matrix)\n",
    "    bregman_prices_interest.append(bregman_price)"
   ]
  },
  {
   "cell_type": "markdown",
   "metadata": {},
   "source": [
    "Evaluate the sensitivity to change in volatility"
   ]
  },
  {
   "cell_type": "code",
   "execution_count": null,
   "metadata": {},
   "outputs": [],
   "source": [
    "# Reset risk-free\n",
    "r = 0.05 # Risk-free interest rate"
   ]
  },
  {
   "cell_type": "code",
   "execution_count": null,
   "metadata": {},
   "outputs": [],
   "source": [
    "# Sensitivity analysis for risk-free interest rate\n",
    "volatilities = np.linspace(0.2, 0.5, 50)\n",
    "classic_prices_vol = []\n",
    "bregman_prices_vol = []\n",
    "for sigma in volatilities:\n",
    "    classic_price = black_scholes_call(S, K, T, r, sigma)\n",
    "    classic_prices_vol.append(classic_price)\n",
    "    \n",
    "    xi = uniform_support(S * np.exp(-5 * sigma * np.sqrt(T)), S * np.exp(5 * sigma * np.sqrt(T)), n)\n",
    "    yj = uniform_support(S * np.exp(-5 * sigma * np.sqrt(T)), S * np.exp(5 * sigma * np.sqrt(T)), n)\n",
    "    C = cost_matrix(xi, yj, K)\n",
    "    mu = lognorm.pdf(xi, s=sigma * np.sqrt(T), scale=S * np.exp(r * T))\n",
    "    mu /= np.sum(mu)\n",
    "    nu = lognorm.pdf(yj, s=sigma * np.sqrt(T), scale=S * np.exp(r * T))\n",
    "    nu /= np.sum(nu)\n",
    "    p_star_bregman = bregman_projection(mu, nu, xi, yj, C)\n",
    "    payoff_matrix = np.maximum(yj - K, 0)\n",
    "    bregman_price = np.exp(-r * T) * np.sum(p_star_bregman * payoff_matrix)\n",
    "    bregman_prices_vol.append(bregman_price)"
   ]
  },
  {
   "cell_type": "markdown",
   "metadata": {},
   "source": [
    "### **Visualization of our sensitivity analysis**"
   ]
  },
  {
   "cell_type": "code",
   "execution_count": null,
   "metadata": {},
   "outputs": [],
   "source": [
    "# Stock Price, Strike Price and Maturity\n",
    "fig, axs = plt.subplots(1, 5, figsize=(25, 5))\n",
    "\n",
    "axs[0].plot(initial_prices, classic_prices_initial, label='Black-Scholes')\n",
    "axs[0].plot(initial_prices, bregman_prices_initial, label='Bregman Projection')\n",
    "axs[0].set_xlabel('Stock Price')\n",
    "axs[0].set_ylabel('Option Price')\n",
    "axs[0].set_title('Sensitivity Analysis: Stock Price')\n",
    "axs[0].legend()\n",
    "\n",
    "axs[1].plot(strike_prices, classic_prices_strike, label='Black-Scholes')\n",
    "axs[1].plot(strike_prices, bregman_prices_strike, label='Bregman Projection')\n",
    "axs[1].set_xlabel('Strike Price')\n",
    "axs[1].set_ylabel('Option Price')\n",
    "axs[1].set_title('Sensitivity Analysis: Strike Price')\n",
    "axs[1].legend()\n",
    "\n",
    "axs[2].plot(maturities, classic_prices_maturity, label='Black-Scholes')\n",
    "axs[2].plot(maturities, bregman_prices_maturity, label='Bregman Projection')\n",
    "axs[2].set_xlabel('Time to Maturity')\n",
    "axs[2].set_ylabel('Option Price')\n",
    "axs[2].set_title('Sensitivity Analysis: Time to Maturity')\n",
    "axs[2].legend()\n",
    "\n",
    "axs[3].plot(interest_rates, classic_prices_interest, label='Black-Scholes')\n",
    "axs[3].plot(interest_rates, bregman_prices_interest, label='Bregman Projection')\n",
    "axs[3].set_xlabel('Interest rates')\n",
    "axs[3].set_ylabel('Option Price')\n",
    "axs[3].set_title('Sensitivity Analysis: Interest rates')\n",
    "axs[3].legend()\n",
    "\n",
    "axs[4].plot(volatilities, classic_prices_vol, label='Black-Scholes')\n",
    "axs[4].plot(volatilities, bregman_prices_vol, label='Bregman Projection')\n",
    "axs[4].set_xlabel('Volatility (sigma)')\n",
    "axs[4].set_ylabel('Option Price')\n",
    "axs[4].set_title('Sensitivity Analysis: Vol Price')\n",
    "axs[4].legend()\n",
    "\n",
    "plt.tight_layout()\n",
    "plt.show()"
   ]
  },
  {
   "cell_type": "code",
   "execution_count": null,
   "metadata": {},
   "outputs": [],
   "source": [
    "# Convert lists to numpy arrays if they aren't already\n",
    "volatilities = np.array(volatilities)\n",
    "classic_prices_vol = np.array(classic_prices_vol)\n",
    "bregman_prices_vol = np.array(bregman_prices_vol)\n",
    "\n",
    "# Find the last valid index where bregman_prices_vol is not NaN\n",
    "# This assumes that NaNs only appear at the end of the array\n",
    "valid_idx = np.where(~np.isnan(bregman_prices_vol))[0][-1] + 1\n",
    "\n",
    "# Trim all arrays to the length of the shortest one\n",
    "volatilities = volatilities[:valid_idx]\n",
    "classic_prices_vol = classic_prices_vol[:valid_idx]\n",
    "bregman_prices_vol = bregman_prices_vol[:valid_idx]\n",
    "\n",
    "# Now plot with arrays of equal length\n",
    "plt.figure(figsize=(5, 5))\n",
    "plt.plot(volatilities, classic_prices_vol, label='Black-Scholes')\n",
    "plt.plot(volatilities, bregman_prices_vol, label='Bregman Projection')\n",
    "plt.xlabel('Volatility')\n",
    "plt.ylabel('Option Price')\n",
    "plt.title('Sensitivity Analysis: Volatility')\n",
    "plt.legend()\n",
    "plt.show()\n",
    "\n",
    "# Sensitivity Analysis: Stock Price\n",
    "plt.figure(figsize=(5, 5))  # Adjusted for a single plot\n",
    "plt.plot(interest_rates, classic_prices_interest, label='Black-Scholes')\n",
    "plt.plot(interest_rates, bregman_prices_interest, label='Bregman Projection')\n",
    "plt.xlabel('Interest Rate')\n",
    "plt.ylabel('Option Price')\n",
    "plt.title('Sensitivity Analysis: Interest Rate')\n",
    "plt.legend()\n",
    "plt.show()\n"
   ]
  },
  {
   "cell_type": "markdown",
   "metadata": {},
   "source": [
    "Our bregman projection overprice a little bit the classic price but give consistent and logic results."
   ]
  },
  {
   "cell_type": "markdown",
   "metadata": {},
   "source": [
    "### **Numerical error analysis**"
   ]
  },
  {
   "cell_type": "code",
   "execution_count": null,
   "metadata": {},
   "outputs": [],
   "source": [
    "# Fix NaNs value in the volatility\n",
    "bregman_prices_vol = [value for value in bregman_prices_vol if not np.isnan(value)]\n",
    "classic_prices_vol = classic_prices_vol[:len(bregman_prices_vol)]"
   ]
  },
  {
   "cell_type": "code",
   "execution_count": null,
   "metadata": {},
   "outputs": [],
   "source": [
    "# Calculate and print the numerical error\n",
    "error_stock = np.mean(np.abs(np.array(classic_prices_initial) - np.array(bregman_prices_initial)) / np.array(classic_prices_initial))\n",
    "error_strike = np.mean(np.abs(np.array(classic_prices_strike) - np.array(bregman_prices_strike)) / np.array(classic_prices_strike))\n",
    "error_maturity = np.mean(np.abs(np.array(classic_prices_maturity) - np.array(bregman_prices_maturity)) / np.array(classic_prices_maturity))\n",
    "error_interest = np.mean(np.abs(np.array(classic_prices_interest) - np.array(bregman_prices_interest)) / np.array(classic_prices_interest))\n",
    "error_vol = np.mean(np.abs(np.array(classic_prices_vol) - np.array(bregman_prices_vol)) / np.array(classic_prices_vol))"
   ]
  },
  {
   "cell_type": "code",
   "execution_count": null,
   "metadata": {},
   "outputs": [],
   "source": [
    "print(f\"Numerical error (stock price): {error_stock:.2%}\")\n",
    "print(f\"Numerical error (strike price): {error_strike:.2%}\")\n",
    "print(f\"Numerical error (time to maturity): {error_maturity:.2%}\")\n",
    "print(f\"Numerical error (Interest rates): {error_interest:.2%}\")\n",
    "print(f\"Numerical error (Volatility): {error_vol:.2%}\")"
   ]
  }
 ],
 "metadata": {
  "kernelspec": {
   "display_name": "Python 3",
   "language": "python",
   "name": "python3"
  },
  "language_info": {
   "codemirror_mode": {
    "name": "ipython",
    "version": 3
   },
   "file_extension": ".py",
   "mimetype": "text/x-python",
   "name": "python",
   "nbconvert_exporter": "python",
   "pygments_lexer": "ipython3",
   "version": "3.11.7"
  }
 },
 "nbformat": 4,
 "nbformat_minor": 2
}
