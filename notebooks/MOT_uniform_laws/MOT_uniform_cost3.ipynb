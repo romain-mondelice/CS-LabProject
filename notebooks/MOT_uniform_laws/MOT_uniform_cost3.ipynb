{
 "cells": [
  {
   "cell_type": "markdown",
   "metadata": {},
   "source": [
    "---"
   ]
  },
  {
   "cell_type": "markdown",
   "metadata": {},
   "source": [
    "# **Imports**"
   ]
  },
  {
   "cell_type": "code",
   "execution_count": null,
   "metadata": {},
   "outputs": [],
   "source": [
    "import numpy as np\n",
    "from scipy.stats import uniform\n",
    "import matplotlib.pyplot as plt\n",
    "from scipy import stats\n",
    "import seaborn as sns\n",
    "import random\n",
    "import ot"
   ]
  },
  {
   "cell_type": "markdown",
   "metadata": {},
   "source": [
    "# **General functions**"
   ]
  },
  {
   "cell_type": "code",
   "execution_count": null,
   "metadata": {},
   "outputs": [],
   "source": [
    "def c(x, y):\n",
    "    return x*y\n",
    "\n",
    "def uniform_support(a, b, n):\n",
    "    return np.linspace(a, b, n)\n",
    "\n",
    "def cost_matrix(xi, yj):\n",
    "    return xi[:, None]*yj\n",
    "\n",
    "def project_onto_C1(p, mu):\n",
    "    \"\"\"Project p onto C1: Marginal matching for mu.\"\"\"\n",
    "    return p * (mu / (p.sum(axis=1) + 1e-8))\n",
    "\n",
    "def project_onto_C2(p, nu):\n",
    "    \"\"\"Project p onto C2: Marginal matching for nu.\"\"\"\n",
    "    return p * (nu / (p.sum(axis=0) + 1e-8))\n",
    "\n",
    "def project_onto_martingale_constraint(p, xi, yj, mu):\n",
    "    \"\"\"Project p onto C2+l: Martingale constraint.\"\"\"\n",
    "    expected_y_per_x = np.dot(p, yj) / (mu + 1e-8)\n",
    "    adjustment_factors = xi / expected_y_per_x\n",
    "    adjustment_factors = np.where(np.isnan(adjustment_factors), 1, adjustment_factors)\n",
    "    p_adjusted = p * adjustment_factors[:, None]\n",
    "    return p_adjusted\n",
    "\n",
    "def bregman_projection(mu, nu, xi, yj, C, max_iter=100):\n",
    "    m, n = C.shape\n",
    "    p = np.exp(-C)  # Initial guess\n",
    "    p /= np.sum(p)  # Normalize\n",
    "    for _ in range(max_iter):\n",
    "        p = project_onto_C1(p, mu)\n",
    "        p = project_onto_C2(p, nu)\n",
    "        p = project_onto_martingale_constraint(p, xi, yj, mu)\n",
    "        # Normalize p again to ensure it's a probability distribution\n",
    "        p /= np.sum(p)\n",
    "       \n",
    "    return p"
   ]
  },
  {
   "cell_type": "markdown",
   "metadata": {},
   "source": [
    "---"
   ]
  },
  {
   "cell_type": "markdown",
   "metadata": {},
   "source": [
    "# **Implementation of the Bregman Projection**"
   ]
  },
  {
   "cell_type": "code",
   "execution_count": null,
   "metadata": {},
   "outputs": [],
   "source": [
    "# Define the parameters for the uniform distributions\n",
    "mu_a, mu_b = -1, 1\n",
    "nu_a, nu_b = -2, 2\n",
    "n = 100  # Number of support points for each distribution\n",
    "\n",
    "# Generate the support points for mu and nu\n",
    "xi = uniform_support(mu_a, mu_b, n)\n",
    "yj = uniform_support(nu_a, nu_b, n)\n",
    "\n",
    "# Generate the cost matrix\n",
    "C = cost_matrix(xi, yj)\n",
    "\n",
    "# Generate the uniform distributions mu and nu\n",
    "mu = np.ones(n) / n\n",
    "nu = np.ones(n) / n\n",
    "\n",
    "# Perform the Bregman projection\n",
    "p_star = bregman_projection(mu, nu, xi, yj, C)"
   ]
  },
  {
   "cell_type": "code",
   "execution_count": null,
   "metadata": {},
   "outputs": [],
   "source": [
    "# Plot the optimal transport plan\n",
    "plt.figure(figsize=(8, 6))\n",
    "plt.imshow(p_star, cmap='viridis', origin='lower', extent=[nu_a, nu_b, mu_a, mu_b])\n",
    "plt.colorbar(label='Probability')\n",
    "plt.xlabel('nu')\n",
    "plt.ylabel('mu')\n",
    "plt.title('Optimal Transport Plan')\n",
    "plt.show()"
   ]
  },
  {
   "cell_type": "code",
   "execution_count": null,
   "metadata": {},
   "outputs": [],
   "source": [
    "# Generate new nu samples using the optimal transport plan\n",
    "num_samples = 1000\n",
    "mu_samples = np.random.choice(xi, size=num_samples, p=mu)\n",
    "nu_samples = []\n",
    "for x in mu_samples:\n",
    "    idx = np.where(xi == x)[0][0]\n",
    "    p_row = p_star[idx] / np.sum(p_star[idx])  # Normalize the row probabilities\n",
    "    nu_samples.append(np.random.choice(yj, p=p_row))\n",
    "nu_samples = np.array(nu_samples)\n",
    "\n",
    "# Plot the generated nu samples\n",
    "plt.figure(figsize=(8, 6))\n",
    "plt.hist(nu_samples, bins=20, density=True, alpha=0.7)\n",
    "plt.xlabel('nu')\n",
    "plt.ylabel('Density')\n",
    "plt.title('Generated nu Samples')\n",
    "plt.show()"
   ]
  },
  {
   "cell_type": "code",
   "execution_count": null,
   "metadata": {},
   "outputs": [],
   "source": [
    "# Verify that Y follows the uniform distribution on (-2, 2)\n",
    "d, p_value = stats.kstest(nu_samples, 'uniform', args=(-2, 4))\n",
    "follow_law = p_value > 0.05\n",
    "print(\"Y follows uniform distribution on (-2, 2):\", follow_law)\n",
    "\n",
    "# Compute the expected cost\n",
    "expected_cost = np.mean(c(mu_samples, nu_samples))\n",
    "print(\"Expected cost E[c(X, Y)]:\", expected_cost)\n",
    "\n",
    "# Verify the inequality\n",
    "lhs = np.mean(c(mu_samples, nu_samples))\n",
    "rhs = np.sqrt(np.mean((mu_samples - nu_samples)**2))\n",
    "print(\"Inequality holds:\", lhs <= rhs)\n",
    "\n",
    "# Verify the martingale property\n",
    "martingale_diff = np.mean(nu_samples - mu_samples)\n",
    "print(\"Martingale difference:\", martingale_diff)\n",
    "print(\"Martingale difference is close to 0:\", np.isclose(martingale_diff, 0, atol=0.03))"
   ]
  },
  {
   "cell_type": "markdown",
   "metadata": {},
   "source": [
    "---"
   ]
  },
  {
   "cell_type": "markdown",
   "metadata": {},
   "source": [
    "# **Implementation with POT**\n",
    "### **Sinkhorn-Knopp algorithm with martingale constraints**"
   ]
  },
  {
   "cell_type": "code",
   "execution_count": null,
   "metadata": {},
   "outputs": [],
   "source": [
    "# Define the initial and final distributions\n",
    "mu = uniform(loc=-1, scale=2)\n",
    "nu = uniform(loc=-2, scale=4)\n",
    "\n",
    "# Generate samples from mu and nu\n",
    "x_samples = mu.rvs(size=1000)\n",
    "y_samples = nu.rvs(size=1000)\n",
    "\n",
    "# Discretization\n",
    "n_bins = 100\n",
    "x_bins = np.linspace(-1, 1, n_bins+1)\n",
    "y_bins = np.linspace(-2, 2, n_bins+1)\n",
    "mu_hist, _ = np.histogram(x_samples, bins=x_bins, density=True)\n",
    "nu_hist, _ = np.histogram(y_samples, bins=y_bins, density=True)\n",
    "\n",
    "# Compute the cost matrix\n",
    "x_centers = (x_bins[:-1] + x_bins[1:]) / 2\n",
    "y_centers = (y_bins[:-1] + y_bins[1:]) / 2\n",
    "cost_matrix = np.outer(x_centers, y_centers)\n",
    "\n",
    "# Define the martingale constraint matrix\n",
    "martingale_matrix = x_centers.reshape(-1, 1) - y_centers.reshape(1, -1)\n",
    "\n",
    "# Solve the MOT problem using the Bregman projection method\n",
    "reg_epsilon = 0.01\n",
    "transport_plan = ot.bregman.sinkhorn_epsilon_scaling(mu_hist, nu_hist, cost_matrix, reg_epsilon, m=martingale_matrix)\n",
    "\n",
    "# Generate new y samples based on the optimal transport plan\n",
    "new_y_samples = []\n",
    "for x in x_samples:\n",
    "    x_idx = np.searchsorted(x_bins, x) - 1\n",
    "    y_probs = transport_plan[x_idx] / transport_plan[x_idx].sum()\n",
    "    y_idx = np.random.choice(np.arange(len(y_centers)), p=y_probs)\n",
    "    new_y_samples.append(y_centers[y_idx])\n",
    "new_y_samples = np.array(new_y_samples)"
   ]
  },
  {
   "cell_type": "code",
   "execution_count": null,
   "metadata": {},
   "outputs": [],
   "source": [
    "# Plot the optimal transport plan\n",
    "plt.figure(figsize=(8, 6))\n",
    "plt.imshow(transport_plan, cmap='viridis', origin='lower', extent=[-2, 2, -1, 1])\n",
    "plt.colorbar(label='Probability')\n",
    "plt.xlabel('nu')\n",
    "plt.ylabel('mu')\n",
    "plt.title('Optimal Transport Plan')\n",
    "plt.show()"
   ]
  },
  {
   "cell_type": "code",
   "execution_count": null,
   "metadata": {},
   "outputs": [],
   "source": [
    "plt.figure(figsize=(8, 6))\n",
    "plt.hist(new_y_samples, bins=20, density=True, alpha=0.7)\n",
    "plt.xlabel('nu')\n",
    "plt.ylabel('Density')\n",
    "plt.title('Generated nu Samples')\n",
    "plt.show()"
   ]
  },
  {
   "cell_type": "code",
   "execution_count": null,
   "metadata": {},
   "outputs": [],
   "source": [
    "# Verify that Y follows the uniform distribution on (-2, 2)\n",
    "d, p_value = stats.kstest(new_y_samples, 'uniform', args=(-2, 4))\n",
    "follow_law = p_value > 0.05\n",
    "print(\"Y follows uniform distribution on (-2, 2):\", follow_law)\n",
    "\n",
    "# Compute the expected cost\n",
    "expected_cost = np.mean(c(x_samples, new_y_samples))\n",
    "print(\"Expected cost E[c(X, Y)]:\", expected_cost)\n",
    "\n",
    "# Verify the inequality\n",
    "lhs = np.mean(c(x_samples, new_y_samples))\n",
    "rhs = np.sqrt(np.mean((x_samples - new_y_samples)**2))\n",
    "print(\"Inequality holds:\", lhs <= rhs)\n",
    "\n",
    "# Verify the martingale property\n",
    "martingale_diff = np.mean(new_y_samples - x_samples)\n",
    "print(\"Martingale difference:\", martingale_diff)\n",
    "print(\"Martingale difference is close to 0:\", np.isclose(martingale_diff, 0, atol=0.03))"
   ]
  },
  {
   "cell_type": "code",
   "execution_count": null,
   "metadata": {},
   "outputs": [],
   "source": []
  }
 ],
 "metadata": {
  "kernelspec": {
   "display_name": "Python 3",
   "language": "python",
   "name": "python3"
  },
  "language_info": {
   "codemirror_mode": {
    "name": "ipython",
    "version": 3
   },
   "file_extension": ".py",
   "mimetype": "text/x-python",
   "name": "python",
   "nbconvert_exporter": "python",
   "pygments_lexer": "ipython3",
   "version": "3.11.8"
  }
 },
 "nbformat": 4,
 "nbformat_minor": 2
}
