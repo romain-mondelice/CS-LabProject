{
 "cells": [
  {
   "cell_type": "markdown",
   "metadata": {},
   "source": [
    "---"
   ]
  },
  {
   "cell_type": "markdown",
   "metadata": {},
   "source": [
    "# **Imports**"
   ]
  },
  {
   "cell_type": "code",
   "execution_count": null,
   "metadata": {},
   "outputs": [],
   "source": [
    "import numpy as np\n",
    "from scipy.stats import uniform\n",
    "import matplotlib.pyplot as plt\n",
    "from scipy import stats\n",
    "import seaborn as sns\n",
    "import random\n",
    "import ot"
   ]
  },
  {
   "cell_type": "markdown",
   "metadata": {},
   "source": [
    "# **General functions**"
   ]
  },
  {
   "cell_type": "code",
   "execution_count": null,
   "metadata": {},
   "outputs": [],
   "source": [
    "def c(x, y):\n",
    "    return np.abs(x - y)"
   ]
  },
  {
   "cell_type": "markdown",
   "metadata": {},
   "source": [
    "---"
   ]
  },
  {
   "cell_type": "markdown",
   "metadata": {},
   "source": [
    "# **Mathematical found optimal transport plan**\n",
    "### Check the mathematical optimal transport plan found with math."
   ]
  },
  {
   "cell_type": "code",
   "execution_count": null,
   "metadata": {},
   "outputs": [],
   "source": [
    "# Define the initial and final distributions\n",
    "mu = uniform(loc=-1, scale=2)\n",
    "nu = uniform(loc=-2, scale=4)\n",
    "\n",
    "# Generate samples from mu and nu\n",
    "x_samples = mu.rvs(size=1000)\n",
    "y_samples = nu.rvs(size=1000)\n",
    "\n",
    "# Discretization\n",
    "n_bins = 100\n",
    "x_bins = np.linspace(-1, 1, n_bins+1)\n",
    "y_bins = np.linspace(-2, 2, n_bins+1)\n",
    "mu_hist, _ = np.histogram(x_samples, bins=x_bins, density=True)\n",
    "nu_hist, _ = np.histogram(y_samples, bins=y_bins, density=True)\n",
    "\n",
    "# Initialization of P\n",
    "P_init = np.outer(mu_hist, nu_hist)\n",
    "P_init /= P_init.sum()\n",
    "\n",
    "# Apply optimal transport plan to set up the P_opt variable\n",
    "x_centers = (x_bins[:-1] + x_bins[1:]) / 2\n",
    "y_centers = (y_bins[:-1] + y_bins[1:]) / 2\n",
    "P_opt = np.zeros_like(P_init)\n",
    "for i, x in enumerate(x_centers):\n",
    "    y_left = x - 1\n",
    "    y_right = x + 1\n",
    "    y_left_idx = np.searchsorted(y_centers, y_left) - 1 \n",
    "    y_right_idx = np.searchsorted(y_centers, y_right) - 1\n",
    "    P_opt[i, y_left_idx] = 0.5 * mu_hist[i]\n",
    "    P_opt[i, y_right_idx] = 0.5 * mu_hist[i]\n",
    "\n",
    "mu_a, mu_b = -1, 1\n",
    "nu_a, nu_b = -2, 2\n",
    "\n",
    "# Generate new y samples based on the optimal transport plan\n",
    "new_y_samples = []\n",
    "for x in x_samples:\n",
    "    x_idx = np.searchsorted(x_bins, x) - 1\n",
    "    y_probs = P_opt[x_idx] / P_opt[x_idx].sum()\n",
    "    y_idx = np.random.choice(np.arange(len(y_centers)), p=y_probs)\n",
    "    new_y_samples.append(y_centers[y_idx])\n",
    "\n",
    "new_y_samples = np.array(new_y_samples)"
   ]
  },
  {
   "cell_type": "code",
   "execution_count": null,
   "metadata": {},
   "outputs": [],
   "source": [
    "# Plot the optimal transport plan\n",
    "plt.figure(figsize=(8, 6))\n",
    "plt.imshow(P_opt, cmap='viridis', origin='lower', extent=[nu_a, nu_b, mu_a, mu_b])\n",
    "plt.colorbar(label='Probability')\n",
    "plt.xlabel('nu')\n",
    "plt.ylabel('mu')\n",
    "plt.title('Optimal Transport Plan')\n",
    "plt.show()"
   ]
  },
  {
   "cell_type": "code",
   "execution_count": null,
   "metadata": {},
   "outputs": [],
   "source": [
    "# Verify that Y follows the uniform distribution on (-2, 2)\n",
    "d, p_value = stats.kstest(new_y_samples, 'uniform', args=(-2, 4))\n",
    "follow_law = p_value > 0.05\n",
    "print(\"Y follows uniform distribution on (-2, 2):\", follow_law)\n",
    "\n",
    "# Compute the expected cost\n",
    "expected_cost = np.mean(c(x_samples, new_y_samples))\n",
    "print(\"Expected cost E[c(X, Y)]:\", expected_cost)\n",
    "\n",
    "# Verify the inequality\n",
    "lhs = np.mean(c(x_samples, new_y_samples))\n",
    "rhs = np.sqrt(np.mean((x_samples - new_y_samples)**2))\n",
    "print(\"Inequality holds:\", lhs <= rhs)\n",
    "\n",
    "# Verify the martingale property\n",
    "martingale_diff = np.mean(new_y_samples - x_samples)\n",
    "print(\"Martingale difference:\", martingale_diff)\n",
    "print(\"Martingale difference is close to 0:\", np.isclose(martingale_diff, 0, atol=0.03))"
   ]
  },
  {
   "cell_type": "code",
   "execution_count": null,
   "metadata": {},
   "outputs": [],
   "source": []
  }
 ],
 "metadata": {
  "kernelspec": {
   "display_name": "Python 3",
   "language": "python",
   "name": "python3"
  },
  "language_info": {
   "codemirror_mode": {
    "name": "ipython",
    "version": 3
   },
   "file_extension": ".py",
   "mimetype": "text/x-python",
   "name": "python",
   "nbconvert_exporter": "python",
   "pygments_lexer": "ipython3",
   "version": "3.11.8"
  }
 },
 "nbformat": 4,
 "nbformat_minor": 2
}
